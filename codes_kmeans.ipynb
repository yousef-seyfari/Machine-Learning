{
 "cells": [
  {
   "cell_type": "markdown",
   "id": "26f9bd42",
   "metadata": {},
   "source": [
    "## 1. Read arff files"
   ]
  },
  {
   "cell_type": "code",
   "execution_count": 1,
   "id": "555eebd4",
   "metadata": {},
   "outputs": [],
   "source": [
    "from scipy.io import arff\n",
    "import pandas as pd\n",
    "import numpy as np\n",
    "\n",
    "data = arff.loadarff('Feature_Selection_using_Weka/data_with_label.arff')\n",
    "df = pd.DataFrame(data[0])\n",
    "#Exclude the labels, ‘population’ column here, from the data and store them in the variable X.\n",
    "X = df.loc[:, df.columns != 'population']\n",
    "#copy the labels , 'population' column here, in the variable y.\n",
    "y = df.loc[:, df.columns =='population']"
   ]
  },
  {
   "cell_type": "markdown",
   "id": "31c34768",
   "metadata": {},
   "source": [
    "## 2. Convert the labels from categorical data into numbers and change their type from a dataframe to a numpy array"
   ]
  },
  {
   "cell_type": "code",
   "execution_count": 2,
   "id": "89756ccb",
   "metadata": {},
   "outputs": [],
   "source": [
    "#The clustering performed by kmeans indicates classes using numbers starting from 0. In kmeans,\n",
    "#0 and 1 denote ‘pop1’ and ‘pop2’, respectively. Therefore, the replace method is used to convert\n",
    "#categorical data into numbers. Before that, a deep copy of the dataframe column is required.\n",
    "#When changing categorical data into numbers, the pandas get_dummies method could also be used.\n",
    "y = y.copy(deep=True)\n",
    "y['population'].replace([b'pop1', b'pop2'], [0, 1], inplace=True)\n",
    "\n",
    "#pycm needs a list or a numpy array. Thus convert pandas dataframe into a numpy array\n",
    "y = np.array(y)"
   ]
  },
  {
   "cell_type": "markdown",
   "id": "92aa80b5",
   "metadata": {},
   "source": [
    "## 3. K-Means: Cluster the data using the KMeans algorithm and obtain the accuracy using the pycm package"
   ]
  },
  {
   "cell_type": "code",
   "execution_count": 3,
   "id": "1ba3a97d",
   "metadata": {},
   "outputs": [
    {
     "data": {
      "text/plain": [
       "1.0"
      ]
     },
     "execution_count": 3,
     "metadata": {},
     "output_type": "execute_result"
    }
   ],
   "source": [
    "from pycm import *\n",
    "from sklearn.cluster import KMeans\n",
    "from sklearn import metrics\n",
    "kmeans = KMeans(n_clusters=2, random_state=0)\n",
    "kmeans.fit(X)\n",
    "y_pred = kmeans.labels_\n",
    "\n",
    "#prepare y_pred data for pycm\n",
    "y_pred.astype(int)\n",
    "cm = ConfusionMatrix(actual_vector=y, predict_vector=y_pred)\n",
    "Acc=metrics.accuracy_score(y, y_pred)\n",
    "Acc"
   ]
  },
  {
   "cell_type": "markdown",
   "id": "5628057a",
   "metadata": {},
   "source": [
    "## 4. Count the number of correctly predicted instances"
   ]
  },
  {
   "cell_type": "code",
   "execution_count": 4,
   "id": "9f32ca04",
   "metadata": {},
   "outputs": [
    {
     "data": {
      "text/plain": [
       "32"
      ]
     },
     "execution_count": 4,
     "metadata": {},
     "output_type": "execute_result"
    }
   ],
   "source": [
    "def count_correct(y_actual, y_predict):\n",
    "    c = 0\n",
    "    for i in range(len(y_actual)):\n",
    "        if y_actual[i]==y_predict[i]:\n",
    "            c=c+1\n",
    "    return c\n",
    "\n",
    "\n",
    "count_correct(y, y_pred)"
   ]
  },
  {
   "cell_type": "code",
   "execution_count": null,
   "id": "394e9ddb",
   "metadata": {},
   "outputs": [],
   "source": []
  }
 ],
 "metadata": {
  "kernelspec": {
   "display_name": "Python 3 (ipykernel)",
   "language": "python",
   "name": "python3"
  },
  "language_info": {
   "codemirror_mode": {
    "name": "ipython",
    "version": 3
   },
   "file_extension": ".py",
   "mimetype": "text/x-python",
   "name": "python",
   "nbconvert_exporter": "python",
   "pygments_lexer": "ipython3",
   "version": "3.9.13"
  }
 },
 "nbformat": 4,
 "nbformat_minor": 5
}
